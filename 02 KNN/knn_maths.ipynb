{
 "cells": [
  {
   "cell_type": "markdown",
   "metadata": {},
   "source": [
    "# K-nearest neighbors: Phân tích toán học\n"
   ]
  },
  {
   "cell_type": "markdown",
   "metadata": {},
   "source": [
    "#### Khoảng cách từ 1 điểm -> từng điểm trong một tập hợp"
   ]
  },
  {
   "cell_type": "code",
   "execution_count": 1,
   "metadata": {},
   "outputs": [],
   "source": [
    "from __future__ import print_function\n",
    "import numpy as np\n",
    "from time import time       # for comparing runtimes\n",
    "d, N = 1000, 1000           # dimension, number of training points\n",
    "X = np.random.randn(N, d)   # N d-dimensional points\n",
    "z = np.random.randn(d)      # the point we are starting from"
   ]
  },
  {
   "cell_type": "code",
   "execution_count": 3,
   "metadata": {},
   "outputs": [
    {
     "name": "stdout",
     "output_type": "stream",
     "text": [
      "naive point2set, runtime:  0.02226877212524414 s\n",
      "fast point2set , runtime:  0.012215137481689453 s\n",
      "Result difference:  7.840271632433845e-12\n"
     ]
    }
   ],
   "source": [
    "# naively compute square distance between two vectors\n",
    "def dist_pp(z, x):\n",
    "    d = z - x.reshape(z.shape)   # force x and z to have the same dims\n",
    "    return np.sum(d*d)\n",
    "\n",
    "# from one point to each point in a set, naive\n",
    "def dist_ps_naive(z, X):\n",
    "    N = X.shape[0]\n",
    "    res = np.zeros((1, N))\n",
    "    for i in range(N):\n",
    "        res[0][i] = dist_pp(z, X[i])\n",
    "    return res\n",
    "\n",
    "# from one point to each point in a set, fast\n",
    "def dist_ps_fast(z, X):\n",
    "    X2 = np.sum(X*X, 1)         # square of 12 norm of each ROW of X\n",
    "    z2 = np.sum(z*z)            # square of 12 norm of z\n",
    "    return X2 + z2 - 2*X.dot(z) # z2 can be ignored\n",
    "\n",
    "t1 = time()\n",
    "D1 = dist_ps_naive(z, X)\n",
    "print('naive point2set, runtime: ', time() - t1, 's')\n",
    "\n",
    "t1 = time()\n",
    "D2 =  dist_ps_fast(z, X)\n",
    "print('fast point2set , runtime: ', time() - t1, 's')\n",
    "print('Result difference: ', np.linalg.norm(D1 - D2))"
   ]
  },
  {
   "cell_type": "markdown",
   "metadata": {},
   "source": [
    "#### Khoảng cách giữa từng cặp điểm-điểm trong hai tập hợp \n",
    "Thông thường, không những phải tính khoảng cách từ một điểm z tới tập các điểm X, mà phải tính giữa nhiều điểm Z tới X (= tính từng cặp khoảng cách giữa mỗi điểm trong tập kiểm thử và một điểm trong tập huấn luyện). \n",
    "\n",
    "Nếu không có phương pháp hiệu quả, runtime sẽ rất lớn."
   ]
  },
  {
   "cell_type": "code",
   "execution_count": 4,
   "metadata": {},
   "outputs": [
    {
     "name": "stdout",
     "output_type": "stream",
     "text": [
      "half fast set2set runtime:  0.3076169490814209 s\n",
      "fast set2set runtime:  0.028321027755737305 s\n",
      "Result difference:  3.232226962412253e-11\n"
     ]
    }
   ],
   "source": [
    "M = 100\n",
    "Z = np.random.randn(M, d)\n",
    "\n",
    "# from each point in one set to each point in another set, half fast\n",
    "def dist_ss_0(Z, X):\n",
    "    M = Z.shape[0]\n",
    "    N = X.shape[0]\n",
    "    res = np.zeros((M, N))\n",
    "    for i in range(M):\n",
    "        res[i] = dist_ps_fast(Z[i], X)\n",
    "    return res\n",
    "\n",
    "# from each point in one set to each point in another set, fast\n",
    "def dist_ss_fast(Z, X):\n",
    "    X2 = np.sum(X*X, 1)         # square of 12 norm of each ROW of X\n",
    "    Z2 = np.sum(Z*Z, 1)         # square of 12 norm of each ROW of Z\n",
    "    return Z2.reshape(-1, 1) + X2.reshape(1, -1) - 2*Z.dot(X.T)\n",
    "\n",
    "t1 = time()\n",
    "D3 = dist_ss_0(Z, X)\n",
    "print('half fast set2set runtime: ', time() - t1, 's')\n",
    "\n",
    "t1 = time()\n",
    "D4 = dist_ss_fast(Z, X)\n",
    "print('fast set2set runtime: ', time() - t1, 's')\n",
    "print('Result difference: ', np.linalg.norm(D3 - D4))"
   ]
  }
 ],
 "metadata": {
  "kernelspec": {
   "display_name": "Python 3",
   "language": "python",
   "name": "python3"
  },
  "language_info": {
   "codemirror_mode": {
    "name": "ipython",
    "version": 3
   },
   "file_extension": ".py",
   "mimetype": "text/x-python",
   "name": "python",
   "nbconvert_exporter": "python",
   "pygments_lexer": "ipython3",
   "version": "3.9.6"
  }
 },
 "nbformat": 4,
 "nbformat_minor": 2
}
