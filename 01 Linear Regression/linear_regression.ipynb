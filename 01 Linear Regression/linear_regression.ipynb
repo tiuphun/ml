{
 "cells": [
  {
   "cell_type": "markdown",
   "metadata": {},
   "source": [
    "# Linear Regression: Ví dụ trên Python"
   ]
  },
  {
   "cell_type": "markdown",
   "metadata": {},
   "source": [
    "## Hiển thị dữ liệu trên đồ thị"
   ]
  },
  {
   "cell_type": "code",
   "execution_count": 3,
   "metadata": {},
   "outputs": [],
   "source": [
    "from __future__ import print_function\n",
    "import numpy as np\n",
    "import matplotlib.pyplot as plt\n",
    "# height (cm), input data, each row is a data point\n",
    "X = np.array([[147, 150, 153, 158, 163, 165, 168, 170, 173, 175, 178, 180, 183]]).T\n",
    "# weight (kg)\n",
    "Y = np.array([49, 50, 51, 54, 58, 59, 60, 62, 63, 64, 66, 67, 68])"
   ]
  },
  {
   "cell_type": "markdown",
   "metadata": {},
   "source": [
    "## Nghiệm theo công thức"
   ]
  },
  {
   "cell_type": "code",
   "execution_count": 4,
   "metadata": {},
   "outputs": [
    {
     "ename": "NameError",
     "evalue": "name 'Xbar' is not defined",
     "output_type": "error",
     "traceback": [
      "\u001b[0;31m---------------------------------------------------------------------------\u001b[0m",
      "\u001b[0;31mNameError\u001b[0m                                 Traceback (most recent call last)",
      "\u001b[1;32m/Users/tieuphuong/Downloads/BKAI/linear_regression.ipynb Cell 2\u001b[0m line \u001b[0;36m3\n\u001b[1;32m      <a href='vscode-notebook-cell:/Users/tieuphuong/Downloads/BKAI/linear_regression.ipynb#W1sZmlsZQ%3D%3D?line=0'>1</a>\u001b[0m \u001b[39m# Building Xbar\u001b[39;00m\n\u001b[1;32m      <a href='vscode-notebook-cell:/Users/tieuphuong/Downloads/BKAI/linear_regression.ipynb#W1sZmlsZQ%3D%3D?line=1'>2</a>\u001b[0m one \u001b[39m=\u001b[39m np\u001b[39m.\u001b[39mones((X\u001b[39m.\u001b[39mshape[\u001b[39m0\u001b[39m], \u001b[39m1\u001b[39m))\n\u001b[0;32m----> <a href='vscode-notebook-cell:/Users/tieuphuong/Downloads/BKAI/linear_regression.ipynb#W1sZmlsZQ%3D%3D?line=2'>3</a>\u001b[0m Xbar \u001b[39m-\u001b[39m np\u001b[39m.\u001b[39mconcatenate((one, X), axis \u001b[39m=\u001b[39m \u001b[39m1\u001b[39m) \u001b[39m# each point is one row\u001b[39;00m\n\u001b[1;32m      <a href='vscode-notebook-cell:/Users/tieuphuong/Downloads/BKAI/linear_regression.ipynb#W1sZmlsZQ%3D%3D?line=3'>4</a>\u001b[0m \u001b[39m# Calculating weights of the fitting line\u001b[39;00m\n\u001b[1;32m      <a href='vscode-notebook-cell:/Users/tieuphuong/Downloads/BKAI/linear_regression.ipynb#W1sZmlsZQ%3D%3D?line=4'>5</a>\u001b[0m A \u001b[39m=\u001b[39m np\u001b[39m.\u001b[39mdot(Xbar\u001b[39m.\u001b[39mT, Xbar)\n",
      "\u001b[0;31mNameError\u001b[0m: name 'Xbar' is not defined"
     ]
    }
   ],
   "source": [
    "# Building Xbar\n",
    "one = np.ones((X.shape[0], 1))\n",
    "Xbar - np.concatenate((one, X), axis = 1) # each point is one row\n",
    "# Calculating weights of the fitting line\n",
    "A = np.dot(Xbar.T, Xbar)\n",
    "b = np.dot(Xbar.T, y)\n",
    "w = np.dot(np.linalg.pinv(A), b)\n",
    "# weights\n",
    "w_0, w_1 = w[0], w[1]\n"
   ]
  },
  {
   "cell_type": "code",
   "execution_count": null,
   "metadata": {},
   "outputs": [],
   "source": [
    "y1 = w_1 * 155 + w_0\n",
    "y2 = w_1 * 160 + w_0\n",
    "print('Input 155cm, true output 52kg, predicted output %.2fkg.' %(y1))\n",
    "print('Input 160cm, true output 56kg, predicted output %.2fkg.' %(y2))"
   ]
  },
  {
   "cell_type": "markdown",
   "metadata": {},
   "source": [
    "## Nghiệm theo thư viện `scikit-learn`"
   ]
  },
  {
   "cell_type": "code",
   "execution_count": 5,
   "metadata": {},
   "outputs": [
    {
     "ename": "ModuleNotFoundError",
     "evalue": "No module named 'sklearn'",
     "output_type": "error",
     "traceback": [
      "\u001b[0;31m---------------------------------------------------------------------------\u001b[0m",
      "\u001b[0;31mModuleNotFoundError\u001b[0m                       Traceback (most recent call last)",
      "\u001b[1;32m/Users/tieuphuong/Downloads/BKAI/linear_regression.ipynb Cell 8\u001b[0m line \u001b[0;36m1\n\u001b[0;32m----> <a href='vscode-notebook-cell:/Users/tieuphuong/Downloads/BKAI/linear_regression.ipynb#W3sZmlsZQ%3D%3D?line=0'>1</a>\u001b[0m \u001b[39mfrom\u001b[39;00m \u001b[39msklearn\u001b[39;00m \u001b[39mimport\u001b[39;00m datasets, linear_model\n\u001b[1;32m      <a href='vscode-notebook-cell:/Users/tieuphuong/Downloads/BKAI/linear_regression.ipynb#W3sZmlsZQ%3D%3D?line=1'>2</a>\u001b[0m \u001b[39m# fit the model by Linear Regression\u001b[39;00m\n\u001b[1;32m      <a href='vscode-notebook-cell:/Users/tieuphuong/Downloads/BKAI/linear_regression.ipynb#W3sZmlsZQ%3D%3D?line=2'>3</a>\u001b[0m regr \u001b[39m=\u001b[39m linear_model\u001b[39m.\u001b[39mLinearRegression()\n",
      "\u001b[0;31mModuleNotFoundError\u001b[0m: No module named 'sklearn'"
     ]
    }
   ],
   "source": [
    "from sklearn import datasets, linear_model\n",
    "# fit the model by Linear Regression\n",
    "regr = linear_model.LinearRegression()\n",
    "regr.fit(X, Y) # in scikit-learn, each sample is one row\n",
    "# Compare two results\n",
    "print(\"scikit-learn's solution : w_1 = \", regr.coef_[0], \"w_0 = \", regr.intercept_)\n",
    "print(\"our solution : w_1 = \", w[1], \"w_0 = \", w[0])"
   ]
  }
 ],
 "metadata": {
  "kernelspec": {
   "display_name": "Python 3",
   "language": "python",
   "name": "python3"
  },
  "language_info": {
   "codemirror_mode": {
    "name": "ipython",
    "version": 3
   },
   "file_extension": ".py",
   "mimetype": "text/x-python",
   "name": "python",
   "nbconvert_exporter": "python",
   "pygments_lexer": "ipython3",
   "version": "3.9.6"
  }
 },
 "nbformat": 4,
 "nbformat_minor": 2
}
