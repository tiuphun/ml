{
 "cells": [
  {
   "cell_type": "markdown",
   "metadata": {},
   "source": [
    "# K-means clustering: Bài toán phân nhóm chữ số viết tay với CSDL MNIST"
   ]
  },
  {
   "cell_type": "code",
   "execution_count": 9,
   "metadata": {},
   "outputs": [
    {
     "name": "stderr",
     "output_type": "stream",
     "text": [
      "/Users/tieuphuong/Library/Python/3.9/lib/python/site-packages/sklearn/datasets/_openml.py:1022: FutureWarning: The default value of `parser` will change from `'liac-arff'` to `'auto'` in 1.4. You can set `parser='auto'` to silence this warning. Therefore, an `ImportError` will be raised from 1.4 if the dataset is dense and pandas is not installed. Note that the pandas parser may return different data types. See the Notes Section in fetch_openml's API doc for details.\n",
      "  warn(\n"
     ]
    },
    {
     "name": "stdout",
     "output_type": "stream",
     "text": [
      "Shape of MINST data:  (70000, 784)\n"
     ]
    }
   ],
   "source": [
    "from __future__ import print_function\n",
    "import numpy as np\n",
    "import pandas as pd\n",
    "from sklearn.datasets import fetch_openml\n",
    "\n",
    "data_dir = './data'\n",
    "mnist = fetch_openml('mnist_784', version=1, data_home=data_dir)\n",
    "print(\"Shape of MINST data: \", mnist.data.shape)"
   ]
  },
  {
   "cell_type": "code",
   "execution_count": 11,
   "metadata": {},
   "outputs": [
    {
     "ename": "TypeError",
     "evalue": "'float' object cannot be interpreted as an integer",
     "output_type": "error",
     "traceback": [
      "\u001b[0;31m---------------------------------------------------------------------------\u001b[0m",
      "\u001b[0;31mTypeError\u001b[0m                                 Traceback (most recent call last)",
      "\u001b[1;32m/Users/tieuphuong/Downloads/BKAI/03 K-means/mnist.ipynb Cell 3\u001b[0m line \u001b[0;36m5\n\u001b[1;32m      <a href='vscode-notebook-cell:/Users/tieuphuong/Downloads/BKAI/03%20K-means/mnist.ipynb#W4sZmlsZQ%3D%3D?line=1'>2</a>\u001b[0m \u001b[39mfrom\u001b[39;00m \u001b[39mmatplotlib\u001b[39;00m\u001b[39m.\u001b[39;00m\u001b[39mbackends\u001b[39;00m\u001b[39m.\u001b[39;00m\u001b[39mbackend_pdf\u001b[39;00m \u001b[39mimport\u001b[39;00m PdfPages\n\u001b[1;32m      <a href='vscode-notebook-cell:/Users/tieuphuong/Downloads/BKAI/03%20K-means/mnist.ipynb#W4sZmlsZQ%3D%3D?line=3'>4</a>\u001b[0m plt\u001b[39m.\u001b[39maxis(\u001b[39m'\u001b[39m\u001b[39moff\u001b[39m\u001b[39m'\u001b[39m)\n\u001b[0;32m----> <a href='vscode-notebook-cell:/Users/tieuphuong/Downloads/BKAI/03%20K-means/mnist.ipynb#W4sZmlsZQ%3D%3D?line=4'>5</a>\u001b[0m A \u001b[39m=\u001b[39m display_network(X\u001b[39m.\u001b[39;49mT, \u001b[39m10\u001b[39;49m, N\u001b[39m/\u001b[39;49m\u001b[39m10\u001b[39;49m)\n\u001b[1;32m      <a href='vscode-notebook-cell:/Users/tieuphuong/Downloads/BKAI/03%20K-means/mnist.ipynb#W4sZmlsZQ%3D%3D?line=5'>6</a>\u001b[0m f2 \u001b[39m=\u001b[39m plt\u001b[39m.\u001b[39mimshow(A, interpolation \u001b[39m=\u001b[39m \u001b[39m'\u001b[39m\u001b[39mnearest\u001b[39m\u001b[39m'\u001b[39m)\n\u001b[1;32m      <a href='vscode-notebook-cell:/Users/tieuphuong/Downloads/BKAI/03%20K-means/mnist.ipynb#W4sZmlsZQ%3D%3D?line=6'>7</a>\u001b[0m plt\u001b[39m.\u001b[39mgray()\n",
      "File \u001b[0;32m~/Downloads/BKAI/03 K-means/display_network.py:34\u001b[0m, in \u001b[0;36mdisplay_network\u001b[0;34m(A, m, n)\u001b[0m\n\u001b[1;32m     30\u001b[0m     n \u001b[39m=\u001b[39m np\u001b[39m.\u001b[39mceil(np\u001b[39m.\u001b[39msqrt(col))\n\u001b[1;32m     31\u001b[0m     m \u001b[39m=\u001b[39m np\u001b[39m.\u001b[39mceil(col \u001b[39m/\u001b[39m n)\n\u001b[0;32m---> 34\u001b[0m image \u001b[39m=\u001b[39m np\u001b[39m.\u001b[39;49mones(shape\u001b[39m=\u001b[39;49m(buf \u001b[39m+\u001b[39;49m m \u001b[39m*\u001b[39;49m (sz \u001b[39m+\u001b[39;49m buf), buf \u001b[39m+\u001b[39;49m n \u001b[39m*\u001b[39;49m (sz \u001b[39m+\u001b[39;49m buf)))\n\u001b[1;32m     36\u001b[0m \u001b[39mif\u001b[39;00m \u001b[39mnot\u001b[39;00m opt_graycolor:\n\u001b[1;32m     37\u001b[0m     image \u001b[39m*\u001b[39m\u001b[39m=\u001b[39m \u001b[39m0.1\u001b[39m\n",
      "File \u001b[0;32m~/Library/Python/3.9/lib/python/site-packages/numpy/core/numeric.py:191\u001b[0m, in \u001b[0;36mones\u001b[0;34m(shape, dtype, order, like)\u001b[0m\n\u001b[1;32m    188\u001b[0m \u001b[39mif\u001b[39;00m like \u001b[39mis\u001b[39;00m \u001b[39mnot\u001b[39;00m \u001b[39mNone\u001b[39;00m:\n\u001b[1;32m    189\u001b[0m     \u001b[39mreturn\u001b[39;00m _ones_with_like(like, shape, dtype\u001b[39m=\u001b[39mdtype, order\u001b[39m=\u001b[39morder)\n\u001b[0;32m--> 191\u001b[0m a \u001b[39m=\u001b[39m empty(shape, dtype, order)\n\u001b[1;32m    192\u001b[0m multiarray\u001b[39m.\u001b[39mcopyto(a, \u001b[39m1\u001b[39m, casting\u001b[39m=\u001b[39m\u001b[39m'\u001b[39m\u001b[39munsafe\u001b[39m\u001b[39m'\u001b[39m)\n\u001b[1;32m    193\u001b[0m \u001b[39mreturn\u001b[39;00m a\n",
      "\u001b[0;31mTypeError\u001b[0m: 'float' object cannot be interpreted as an integer"
     ]
    },
    {
     "data": {
      "image/png": "[encoded data removed]",
      "text/plain": [
       "<Figure size 640x480 with 1 Axes>"
      ]
     },
     "metadata": {},
     "output_type": "display_data"
    }
   ],
   "source": [
    "from display_network import *\n",
    "from matplotlib.backends.backend_pdf import PdfPages\n",
    "\n",
    "plt.axis('off')\n",
    "A = display_network(X.T, 10, N/10)\n",
    "f2 = plt.imshow(A, interpolation = 'nearest')\n",
    "plt.gray()\n",
    "plt.savefig('mnist_ex.png', bbox_inches = 'tight', dpi = 600)\n",
    "plt.show()"
   ]
  },
  {
   "cell_type": "markdown",
   "metadata": {},
   "source": [
    "##### Lấy ra ngẫu nhiên 10000 ảnh từ CSDL MNIST và thực hiện K-means cluster\n",
    "Các centroid được lưu trong `kmeans.cluster_centers_`, label mỗi điểm dữ liệu được lưu trong `pred_label`."
   ]
  },
  {
   "cell_type": "code",
   "execution_count": 10,
   "metadata": {},
   "outputs": [
    {
     "name": "stderr",
     "output_type": "stream",
     "text": [
      "/Users/tieuphuong/Library/Python/3.9/lib/python/site-packages/sklearn/cluster/_kmeans.py:1416: FutureWarning: The default value of `n_init` will change from 10 to 'auto' in 1.4. Set the value of `n_init` explicitly to suppress the warning\n",
      "  super()._check_params_vs_input(X, default_n_init=10)\n"
     ]
    }
   ],
   "source": [
    "from sklearn.cluster import KMeans\n",
    "from sklearn.neighbors import NearestNeighbors\n",
    "K = 10\n",
    "N = 10000\n",
    "X = mnist.data.sample(N)\n",
    "kmeans = KMeans(n_clusters = K).fit(X)\n",
    "pred_label = kmeans.predict(X)"
   ]
  },
  {
   "cell_type": "code",
   "execution_count": null,
   "metadata": {},
   "outputs": [],
   "source": [
    "from sklearn.cluster import KMeans\n",
    "from sklearn.neighbors import NearestNeighbors\n",
    "\n",
    "K = 10              # number of clusters\n",
    "N = 10000           # number of samples\n",
    "X = mnist.data[np.random.choice(mnist.data.shape[0], N)]\n",
    "kmeans = KMeans(n_clusters=K).fit(X)\n",
    "pred_label = kmeans.predict(X)"
   ]
  },
  {
   "cell_type": "code",
   "execution_count": null,
   "metadata": {},
   "outputs": [],
   "source": [
    "plt.axis('off')\n",
    "A = display_network(kmeans.cluster_centers_.T, 10, 1)\n",
    "f2 = plt.imshow(A, interpolation='nearest', cmap = plt.cm.jet)\n",
    "\n",
    "plt.savefig('mnist_centroids.png', bbox_inches = 'tight', dpi = 600)\n",
    "plt.show()"
   ]
  },
  {
   "cell_type": "code",
   "execution_count": 8,
   "metadata": {},
   "outputs": [
    {
     "ename": "InvalidIndexError",
     "evalue": "(array([ True, False, False, ..., False, False, False]), slice(None, None, None))",
     "output_type": "error",
     "traceback": [
      "\u001b[0;31m---------------------------------------------------------------------------\u001b[0m",
      "\u001b[0;31mTypeError\u001b[0m                                 Traceback (most recent call last)",
      "File \u001b[0;32m~/Library/Python/3.9/lib/python/site-packages/pandas/core/indexes/base.py:3790\u001b[0m, in \u001b[0;36mIndex.get_loc\u001b[0;34m(self, key)\u001b[0m\n\u001b[1;32m   3789\u001b[0m \u001b[39mtry\u001b[39;00m:\n\u001b[0;32m-> 3790\u001b[0m     \u001b[39mreturn\u001b[39;00m \u001b[39mself\u001b[39;49m\u001b[39m.\u001b[39;49m_engine\u001b[39m.\u001b[39;49mget_loc(casted_key)\n\u001b[1;32m   3791\u001b[0m \u001b[39mexcept\u001b[39;00m \u001b[39mKeyError\u001b[39;00m \u001b[39mas\u001b[39;00m err:\n",
      "File \u001b[0;32mindex.pyx:152\u001b[0m, in \u001b[0;36mpandas._libs.index.IndexEngine.get_loc\u001b[0;34m()\u001b[0m\n",
      "File \u001b[0;32mindex.pyx:158\u001b[0m, in \u001b[0;36mpandas._libs.index.IndexEngine.get_loc\u001b[0;34m()\u001b[0m\n",
      "\u001b[0;31mTypeError\u001b[0m: '(array([ True, False, False, ..., False, False, False]), slice(None, None, None))' is an invalid key",
      "\nDuring handling of the above exception, another exception occurred:\n",
      "\u001b[0;31mInvalidIndexError\u001b[0m                         Traceback (most recent call last)",
      "\u001b[1;32m/Users/tieuphuong/Downloads/BKAI/03 K-means/mnist.ipynb Cell 8\u001b[0m line \u001b[0;36m7\n\u001b[1;32m      <a href='vscode-notebook-cell:/Users/tieuphuong/Downloads/BKAI/03%20K-means/mnist.ipynb#X10sZmlsZQ%3D%3D?line=3'>4</a>\u001b[0m X2 \u001b[39m=\u001b[39m np\u001b[39m.\u001b[39mzeros((N0 \u001b[39m*\u001b[39m K, \u001b[39m784\u001b[39m))\n\u001b[1;32m      <a href='vscode-notebook-cell:/Users/tieuphuong/Downloads/BKAI/03%20K-means/mnist.ipynb#X10sZmlsZQ%3D%3D?line=5'>6</a>\u001b[0m \u001b[39mfor\u001b[39;00m k \u001b[39min\u001b[39;00m \u001b[39mrange\u001b[39m(K):\n\u001b[0;32m----> <a href='vscode-notebook-cell:/Users/tieuphuong/Downloads/BKAI/03%20K-means/mnist.ipynb#X10sZmlsZQ%3D%3D?line=6'>7</a>\u001b[0m     Xk \u001b[39m=\u001b[39m X[pred_label \u001b[39m==\u001b[39;49m k, :]\n",
      "File \u001b[0;32m~/Library/Python/3.9/lib/python/site-packages/pandas/core/frame.py:3893\u001b[0m, in \u001b[0;36mDataFrame.__getitem__\u001b[0;34m(self, key)\u001b[0m\n\u001b[1;32m   3891\u001b[0m \u001b[39mif\u001b[39;00m \u001b[39mself\u001b[39m\u001b[39m.\u001b[39mcolumns\u001b[39m.\u001b[39mnlevels \u001b[39m>\u001b[39m \u001b[39m1\u001b[39m:\n\u001b[1;32m   3892\u001b[0m     \u001b[39mreturn\u001b[39;00m \u001b[39mself\u001b[39m\u001b[39m.\u001b[39m_getitem_multilevel(key)\n\u001b[0;32m-> 3893\u001b[0m indexer \u001b[39m=\u001b[39m \u001b[39mself\u001b[39;49m\u001b[39m.\u001b[39;49mcolumns\u001b[39m.\u001b[39;49mget_loc(key)\n\u001b[1;32m   3894\u001b[0m \u001b[39mif\u001b[39;00m is_integer(indexer):\n\u001b[1;32m   3895\u001b[0m     indexer \u001b[39m=\u001b[39m [indexer]\n",
      "File \u001b[0;32m~/Library/Python/3.9/lib/python/site-packages/pandas/core/indexes/base.py:3802\u001b[0m, in \u001b[0;36mIndex.get_loc\u001b[0;34m(self, key)\u001b[0m\n\u001b[1;32m   3797\u001b[0m     \u001b[39mraise\u001b[39;00m \u001b[39mKeyError\u001b[39;00m(key) \u001b[39mfrom\u001b[39;00m \u001b[39merr\u001b[39;00m\n\u001b[1;32m   3798\u001b[0m \u001b[39mexcept\u001b[39;00m \u001b[39mTypeError\u001b[39;00m:\n\u001b[1;32m   3799\u001b[0m     \u001b[39m# If we have a listlike key, _check_indexing_error will raise\u001b[39;00m\n\u001b[1;32m   3800\u001b[0m     \u001b[39m#  InvalidIndexError. Otherwise we fall through and re-raise\u001b[39;00m\n\u001b[1;32m   3801\u001b[0m     \u001b[39m#  the TypeError.\u001b[39;00m\n\u001b[0;32m-> 3802\u001b[0m     \u001b[39mself\u001b[39;49m\u001b[39m.\u001b[39;49m_check_indexing_error(key)\n\u001b[1;32m   3803\u001b[0m     \u001b[39mraise\u001b[39;00m\n",
      "File \u001b[0;32m~/Library/Python/3.9/lib/python/site-packages/pandas/core/indexes/base.py:5974\u001b[0m, in \u001b[0;36mIndex._check_indexing_error\u001b[0;34m(self, key)\u001b[0m\n\u001b[1;32m   5970\u001b[0m \u001b[39mdef\u001b[39;00m \u001b[39m_check_indexing_error\u001b[39m(\u001b[39mself\u001b[39m, key):\n\u001b[1;32m   5971\u001b[0m     \u001b[39mif\u001b[39;00m \u001b[39mnot\u001b[39;00m is_scalar(key):\n\u001b[1;32m   5972\u001b[0m         \u001b[39m# if key is not a scalar, directly raise an error (the code below\u001b[39;00m\n\u001b[1;32m   5973\u001b[0m         \u001b[39m# would convert to numpy arrays and raise later any way) - GH29926\u001b[39;00m\n\u001b[0;32m-> 5974\u001b[0m         \u001b[39mraise\u001b[39;00m InvalidIndexError(key)\n",
      "\u001b[0;31mInvalidIndexError\u001b[0m: (array([ True, False, False, ..., False, False, False]), slice(None, None, None))"
     ]
    }
   ],
   "source": [
    "N0 = 10\n",
    "K = 10\n",
    "X1 = np.zeros((N0 * K, 784))\n",
    "X2 = np.zeros((N0 * K, 784))\n",
    "\n",
    "for k in range(K):\n",
    "    Xk = X[pred_label == k, :]\n",
    "\n",
    "    # random points in each cluster\n",
    "    X1[N0*k : N0*k + N0, :] = Xk[:N0, :]\n",
    "\n",
    "    # NO nearest points\n",
    "    centroid_k = kmeans.cluster_centers_[k]\n",
    "    neigh = NearestNeighbors(N0) # get 5 nearest neighbors\n",
    "    neigh.fit(Xk)\n",
    "\n",
    "    X2[N0*k : N0*k + N0, :] = Xk[neigh.kneighbors(centroid_k, N0)[1][0], :]"
   ]
  },
  {
   "cell_type": "code",
   "execution_count": null,
   "metadata": {},
   "outputs": [],
   "source": [
    "# random point in cluster\n",
    "plt.axis('off')\n",
    "A = display_network(X1.T, K, N0)\n",
    "f2 = plt.imshow(A, interpolation = 'nearest')\n",
    "plt.gray()\n",
    "plt.savefig('mnist_cluster_random.png', bbox_inches = 'tight', dpi = 600)\n",
    "plt.show()"
   ]
  },
  {
   "cell_type": "code",
   "execution_count": null,
   "metadata": {},
   "outputs": [],
   "source": [
    "# nearest points\n",
    "plt.axis('off')\n",
    "A = display_network(X1.T, K, N0)\n",
    "f2 = plt.imshow(A, interpolation = 'nearest')\n",
    "plt.gray()\n",
    "plt.savefig('mnist_cluster_nn.png', bbox_inches = 'tight', dpi = 600)\n",
    "plt.show()"
   ]
  }
 ],
 "metadata": {
  "kernelspec": {
   "display_name": "Python 3",
   "language": "python",
   "name": "python3"
  },
  "language_info": {
   "codemirror_mode": {
    "name": "ipython",
    "version": 3
   },
   "file_extension": ".py",
   "mimetype": "text/x-python",
   "name": "python",
   "nbconvert_exporter": "python",
   "pygments_lexer": "ipython3",
   "version": "3.9.6"
  }
 },
 "nbformat": 4,
 "nbformat_minor": 2
}
